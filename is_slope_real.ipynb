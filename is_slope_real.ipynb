{
 "cells": [
  {
   "cell_type": "markdown",
   "metadata": {},
   "source": [
    "# Is, slope, real\n",
    "\n",
    "This exercise follows on from the [I, slope exercise](https://matthew-brett.github.io/cfd2020/exercises/isloping.zip)."
   ]
  },
  {
   "cell_type": "code",
   "execution_count": null,
   "metadata": {},
   "outputs": [],
   "source": [
    "# Run this cell, but please don't change it.\n",
    "\n",
    "# These lines import the Numpy and Pandas modules.\n",
    "import numpy as np\n",
    "import pandas as pd\n",
    "from scipy.optimize import minimize\n",
    "\n",
    "# These lines do some fancy plotting magic.\n",
    "import matplotlib\n",
    "%matplotlib inline\n",
    "import matplotlib.pyplot as plt\n",
    "plt.style.use('fivethirtyeight')\n",
    "\n",
    "# These lines load the tests.\n",
    "from client.api.notebook import Notebook\n",
    "ok = Notebook('is_slope_real.ok')"
   ]
  },
  {
   "cell_type": "markdown",
   "metadata": {},
   "source": [
    "## Hemoglobin and serum creatinine, again\n",
    "\n",
    "Again, we load the [data on chronic kidney disease](https://matthew-brett.github.io/cfd2020/data/chronic_kidney_disease)."
   ]
  },
  {
   "cell_type": "code",
   "execution_count": null,
   "metadata": {},
   "outputs": [],
   "source": [
    "ckd = pd.read_csv('ckd_clean.csv')\n",
    "ckd.head()"
   ]
  },
  {
   "cell_type": "markdown",
   "metadata": {},
   "source": [
    "Again, our interest here is in these two variables / columns:\n",
    "\n",
    "* \"Hemoglobin\" : the concentration of the protein in red blood cells.  This\n",
    "  tends to go down in chronic kidney disease.\n",
    "* \"Serum creatinine\" : this is a measure of how well the kidney is clearing\n",
    "  waste products from the blood.  If your kidneys are working well, your\n",
    "  creatinine should be low."
   ]
  },
  {
   "cell_type": "code",
   "execution_count": null,
   "metadata": {},
   "outputs": [],
   "source": [
    "ckd.plot.scatter('Hemoglobin', 'Serum Creatinine')"
   ]
  },
  {
   "cell_type": "markdown",
   "metadata": {},
   "source": [
    "In the [I, slope exercise](https://matthew-brett.github.io/cfd2020/exercises/isloping.zip), you\n",
    "found the best-fit slope to these data, in least-squares sense.\n",
    "\n",
    "Looking at the plot, it seems as if there are two different things going on.\n",
    "\n",
    "* To the left of the plot, there are scattered values for low hemoglobin and\n",
    "  high creatinine, where it looks as if there is a weak straight line\n",
    "  relationship between them.\n",
    "* To the bottom right of the plot, there seems to be a tight cluster of values\n",
    "  with high hemoglobin and creatinine, which it is difficult to see signs of\n",
    "  a straight line relationship.\n",
    "\n",
    "This data table has one row per patient.   The `Class` column divides the rows (patients) into two groups:\n",
    "\n",
    "* Patients with chronic kidney disease have 1 in the `Class` column.\n",
    "* Patients without chronic kidney disease have 0 in the `Class` column.\n",
    "\n",
    "You might correctly speculate that patients with chronic kidney disease tend to have *both*:\n",
    "\n",
    "* low hemoglobin (mostly because the kidney makes the hormone that stimulates\n",
    "  the production of red blood cells, that contain hemoglobin)\n",
    "* high creatinine (because the kidneys cannot clear creatinine from the blood).\n",
    "\n",
    "Maybe the left part of the plot has the chronic kidney disease patients, and the right part has the patients without chronic kidney disease."
   ]
  },
  {
   "cell_type": "markdown",
   "metadata": {},
   "source": [
    "## Select patients with chronic kidney disease (CKD)\n",
    "\n",
    "Make a new data frame called `ckd_patients` that contains only the patients labeled as having CKD.  Plot the Hemoglobin against Serum Creatinine for these patients."
   ]
  },
  {
   "cell_type": "code",
   "execution_count": null,
   "metadata": {},
   "outputs": [],
   "source": [
    "ckd_patients = ..."
   ]
  },
  {
   "cell_type": "code",
   "execution_count": null,
   "metadata": {},
   "outputs": [],
   "source": [
    "_ = ok.grade('q_1_ckd_patients')"
   ]
  },
  {
   "cell_type": "markdown",
   "metadata": {},
   "source": [
    "Convert these Hemoglobin and Serum Creatinine values to Numpy arrays, for efficiency."
   ]
  },
  {
   "cell_type": "code",
   "execution_count": null,
   "metadata": {},
   "outputs": [],
   "source": [
    "hgb_ckd = ...\n",
    "creat_ckd = ..."
   ]
  },
  {
   "cell_type": "code",
   "execution_count": null,
   "metadata": {},
   "outputs": [],
   "source": [
    "_ = ok.grade('q_2_ckd_xy')"
   ]
  },
  {
   "cell_type": "markdown",
   "metadata": {},
   "source": [
    "Find the best (least-squares) line fitting `hgb_ckd` (on the x axis) to `creat_ckd` (on the y axis).\n",
    "\n",
    "You may want to use the `ss_any_line` function from [using minimize](https://matthew-brett.github.io/cfd2020/chapters/08/using_minimize)."
   ]
  },
  {
   "cell_type": "code",
   "execution_count": null,
   "metadata": {},
   "outputs": [],
   "source": [
    "best_c_ckd, best_s_ckd = ...\n",
    "# Print the values.\n",
    "print(best_c_ckd, best_s_ckd)"
   ]
  },
  {
   "cell_type": "code",
   "execution_count": null,
   "metadata": {},
   "outputs": [],
   "source": [
    "_ = ok.grade('q_3_ls_ckd')"
   ]
  },
  {
   "cell_type": "markdown",
   "metadata": {},
   "source": [
    "The next question is --- can we trust this slope?  Or could the slope the negative have plausibly come about if we had drawn a random sample in a world where there is no linear relationship between the Hemoglobin and the Serum Creatinine, in the CKD patients.\n",
    "\n",
    "Use permutation to calculate the *sampling distribution* of the slope.  See\n",
    "[inference on slopes](https://matthew-brett.github.io/cfd2020/chapters/08/inference_on_slopes) for\n",
    "inspiration.  Take 1000 samples for the sampling distribution, otherwise you\n",
    "will find the calculation takes a fairly long time."
   ]
  },
  {
   "cell_type": "code",
   "execution_count": null,
   "metadata": {},
   "outputs": [],
   "source": [
    "# To store samples for the sampling distribution\n",
    "n_samples = 1000\n",
    "fake_slopes = np.zeros(n_samples)\n",
    "...\n",
    "# Show a histogram of the sampling distribution\n",
    "plt.hist(fake_slopes);"
   ]
  },
  {
   "cell_type": "code",
   "execution_count": null,
   "metadata": {},
   "outputs": [],
   "source": [
    "_ = ok.grade('q_4_fake_slopes')"
   ]
  },
  {
   "cell_type": "markdown",
   "metadata": {},
   "source": [
    "Calculate the proportion of the sampling distribution that is less than or equal to the observed best slope:"
   ]
  },
  {
   "cell_type": "code",
   "execution_count": null,
   "metadata": {},
   "outputs": [],
   "source": [
    "p_slope = ...\n",
    "# Show proportion.\n",
    "p_slope"
   ]
  },
  {
   "cell_type": "code",
   "execution_count": null,
   "metadata": {},
   "outputs": [],
   "source": [
    "_ = ok.grade('q_5_p_slope')"
   ]
  },
  {
   "cell_type": "markdown",
   "metadata": {},
   "source": [
    "Looking back at the original plot of the CKD patients' values, we start to wonder whether the lowest and the highest values for Hemoglobin might be having an undue effect on the slope of the line.\n",
    "\n",
    "Calculate the mean and standard deviation of the `hgb_ckd` values.\n",
    "\n",
    "Make new arrays from which you have dropped the elements in `hgb_ckd` and\n",
    "`creat_ckd` corresponding to Hemoglobin values lower than the mean minus 2.5\n",
    "standard deviations, or higher than the mean plus 2.5 standard deviations.\n",
    "\n",
    "*Hint*: consider `logical_and` or `np.abs`."
   ]
  },
  {
   "cell_type": "code",
   "execution_count": null,
   "metadata": {
    "lines_to_next_cell": 2
   },
   "outputs": [],
   "source": [
    "hgb_clean = ...\n",
    "creat_clean = ...\n",
    "# Plot the new arrays.\n",
    "plt.plot(hgb_clean, creat_clean, 'o')"
   ]
  },
  {
   "cell_type": "code",
   "execution_count": null,
   "metadata": {},
   "outputs": [],
   "source": [
    "_ = ok.grade('q_6_cleaned')"
   ]
  },
  {
   "cell_type": "markdown",
   "metadata": {},
   "source": [
    "Recalculate the best-fit slope for these arrays, from which you have dropped\n",
    "the elements corresponding to extreme values."
   ]
  },
  {
   "cell_type": "code",
   "execution_count": null,
   "metadata": {},
   "outputs": [],
   "source": [
    "best_c_clean, best_s_clean = ...\n",
    "# Print the values.\n",
    "print(best_c_clean, best_s_clean)"
   ]
  },
  {
   "cell_type": "code",
   "execution_count": null,
   "metadata": {},
   "outputs": [],
   "source": [
    "_ = ok.grade('q_7_ls_clean')"
   ]
  },
  {
   "cell_type": "markdown",
   "metadata": {},
   "source": [
    "Use permutation to recalculate the sampling distribution for this slope.\n",
    "Again, calculate 1000 samples rather than the standard 10000, in order to save\n",
    "time.\n"
   ]
  },
  {
   "cell_type": "code",
   "execution_count": null,
   "metadata": {},
   "outputs": [],
   "source": [
    "# To store samples for the sampling distribution\n",
    "n_samples = 1000\n",
    "fake_slopes_clean = np.zeros(n_samples)\n",
    "...\n",
    "# Show a histogram of the sampling distribution\n",
    "plt.hist(fake_slopes_clean);"
   ]
  },
  {
   "cell_type": "code",
   "execution_count": null,
   "metadata": {},
   "outputs": [],
   "source": [
    "_ = ok.grade('q_8_fake_slopes_clean')"
   ]
  },
  {
   "cell_type": "markdown",
   "metadata": {},
   "source": [
    "Calculate the proportion of the new sampling distribution that is less than or\n",
    "equal to the observed best slope:"
   ]
  },
  {
   "cell_type": "code",
   "execution_count": null,
   "metadata": {},
   "outputs": [],
   "source": [
    "p_slope_clean = ...\n",
    "# Show proportion.\n",
    "p_slope_clean"
   ]
  },
  {
   "cell_type": "code",
   "execution_count": null,
   "metadata": {},
   "outputs": [],
   "source": [
    "_ = ok.grade('q_9_p_slope_clean')"
   ]
  },
  {
   "cell_type": "markdown",
   "metadata": {},
   "source": [
    "Are you still convinced by the negative linear relationship between hemoglobin and serum creatinine?"
   ]
  },
  {
   "cell_type": "markdown",
   "metadata": {},
   "source": [
    "## Done\n",
    "\n",
    "You're finished with the assignment!  Be sure to...\n",
    "\n",
    "- **run all the tests** (the next cell has a shortcut for that),\n",
    "- **Save and Checkpoint** from the \"File\" menu.\n",
    "- Finally, **restart** the kernel for this notebook, and **run all the cells**,\n",
    "  to check that the notebook still works without errors.  Use the\n",
    "  \"Kernel\" menu, and choose \"Restart and run all\".  If you find any\n",
    "  problems, go back and fix them, save the notebook, and restart / run\n",
    "  all again, before submitting.  When you do this, you make sure that\n",
    "  we, your humble markers, will be able to mark your notebook."
   ]
  },
  {
   "cell_type": "code",
   "execution_count": null,
   "metadata": {},
   "outputs": [],
   "source": [
    "# For your convenience, you can run this cell to run all the tests at once!\n",
    "import os\n",
    "_ = [ok.grade(q[:-3]) for q in os.listdir(\"tests\") if q.startswith('q')]"
   ]
  }
 ],
 "metadata": {
  "jupytext": {
   "split_at_heading": true,
   "text_representation": {
    "extension": ".Rmd",
    "format_name": "rmarkdown",
    "format_version": "1.1",
    "jupytext_version": "1.2.4"
   }
  },
  "kernelspec": {
   "display_name": "Python 3",
   "language": "python",
   "name": "python3"
  }
 },
 "nbformat": 4,
 "nbformat_minor": 4
}
